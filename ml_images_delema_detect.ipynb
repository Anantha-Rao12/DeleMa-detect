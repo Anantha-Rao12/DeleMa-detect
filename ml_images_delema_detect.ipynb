{
  "nbformat": 4,
  "nbformat_minor": 0,
  "metadata": {
    "colab": {
      "name": "ml_images_delema_detect.ipynb",
      "provenance": [],
      "mount_file_id": "1gQjRu9rPB7YtckHDECmYTSEYSDCsdr-s",
      "authorship_tag": "ABX9TyNdUdDfa96LkI3VDxRkbcZ5",
      "include_colab_link": true
    },
    "kernelspec": {
      "name": "python3",
      "display_name": "Python 3"
    }
  },
  "cells": [
    {
      "cell_type": "markdown",
      "metadata": {
        "id": "view-in-github",
        "colab_type": "text"
      },
      "source": [
        "<a href=\"https://colab.research.google.com/github/Anantha-Rao12/DeleMa-detect/blob/master/ml_images_delema_detect.ipynb\" target=\"_parent\"><img src=\"https://colab.research.google.com/assets/colab-badge.svg\" alt=\"Open In Colab\"/></a>"
      ]
    },
    {
      "cell_type": "code",
      "metadata": {
        "id": "zS3Pv3Ev9GV6"
      },
      "source": [
        "# For Data Analysis\n",
        "import numpy as np\n",
        "import pandas as pd\n",
        "\n",
        "# For Plotting\n",
        "import matplotlib.pyplot as plt\n",
        "import seaborn as sns ; sns.set()\n",
        "\n",
        "# Sklearn Utils for Machine Learning Models \n",
        "from sklearn.model_selection import train_test_split\n",
        "from sklearn.linear_model import LogisticRegression\n",
        "from sklearn.svm import SVC\n",
        "from sklearn.ensemble import RandomForestClassifier\n",
        "from sklearn.naive_bayes import GaussianNB\n",
        "from sklearn.neighbors import KNeighborsClassifier as KNN \n",
        "\n",
        "# Metrics to access Performance\n",
        "from sklearn.metrics import roc_curve, roc_auc_score, classification_report"
      ],
      "execution_count": 1,
      "outputs": []
    },
    {
      "cell_type": "code",
      "metadata": {
        "id": "-mT9ZMpY9SZj"
      },
      "source": [
        "path = '/content/drive/My Drive/DS-Python-notebooks/My-Projects/Malaria/data.csv'\n",
        "\n",
        "df = pd.read_csv(path)"
      ],
      "execution_count": 18,
      "outputs": []
    },
    {
      "cell_type": "code",
      "metadata": {
        "id": "woT_RTeJ_8MJ",
        "outputId": "eb061b9d-4dc3-4725-8170-b31195afb37e",
        "colab": {
          "base_uri": "https://localhost:8080/",
          "height": 206
        }
      },
      "source": [
        "df.head()"
      ],
      "execution_count": 19,
      "outputs": [
        {
          "output_type": "execute_result",
          "data": {
            "text/html": [
              "<div>\n",
              "<style scoped>\n",
              "    .dataframe tbody tr th:only-of-type {\n",
              "        vertical-align: middle;\n",
              "    }\n",
              "\n",
              "    .dataframe tbody tr th {\n",
              "        vertical-align: top;\n",
              "    }\n",
              "\n",
              "    .dataframe thead th {\n",
              "        text-align: right;\n",
              "    }\n",
              "</style>\n",
              "<table border=\"1\" class=\"dataframe\">\n",
              "  <thead>\n",
              "    <tr style=\"text-align: right;\">\n",
              "      <th></th>\n",
              "      <th>Label</th>\n",
              "      <th>area_0</th>\n",
              "      <th>area_1</th>\n",
              "      <th>area_2</th>\n",
              "      <th>area_3</th>\n",
              "      <th>area_4</th>\n",
              "    </tr>\n",
              "  </thead>\n",
              "  <tbody>\n",
              "    <tr>\n",
              "      <th>0</th>\n",
              "      <td>Parasitized</td>\n",
              "      <td>175.5</td>\n",
              "      <td>126.0</td>\n",
              "      <td>131.0</td>\n",
              "      <td>8902.5</td>\n",
              "      <td>0.0</td>\n",
              "    </tr>\n",
              "    <tr>\n",
              "      <th>1</th>\n",
              "      <td>Parasitized</td>\n",
              "      <td>222.0</td>\n",
              "      <td>9847.5</td>\n",
              "      <td>0.0</td>\n",
              "      <td>0.0</td>\n",
              "      <td>0.0</td>\n",
              "    </tr>\n",
              "    <tr>\n",
              "      <th>2</th>\n",
              "      <td>Parasitized</td>\n",
              "      <td>179.5</td>\n",
              "      <td>256.5</td>\n",
              "      <td>12413.0</td>\n",
              "      <td>0.0</td>\n",
              "      <td>0.0</td>\n",
              "    </tr>\n",
              "    <tr>\n",
              "      <th>3</th>\n",
              "      <td>Parasitized</td>\n",
              "      <td>18.0</td>\n",
              "      <td>187.5</td>\n",
              "      <td>9306.5</td>\n",
              "      <td>0.0</td>\n",
              "      <td>0.0</td>\n",
              "    </tr>\n",
              "    <tr>\n",
              "      <th>4</th>\n",
              "      <td>Parasitized</td>\n",
              "      <td>142.5</td>\n",
              "      <td>156.5</td>\n",
              "      <td>6669.5</td>\n",
              "      <td>0.0</td>\n",
              "      <td>0.0</td>\n",
              "    </tr>\n",
              "  </tbody>\n",
              "</table>\n",
              "</div>"
            ],
            "text/plain": [
              "         Label  area_0  area_1   area_2  area_3  area_4\n",
              "0  Parasitized   175.5   126.0    131.0  8902.5     0.0\n",
              "1  Parasitized   222.0  9847.5      0.0     0.0     0.0\n",
              "2  Parasitized   179.5   256.5  12413.0     0.0     0.0\n",
              "3  Parasitized    18.0   187.5   9306.5     0.0     0.0\n",
              "4  Parasitized   142.5   156.5   6669.5     0.0     0.0"
            ]
          },
          "metadata": {
            "tags": []
          },
          "execution_count": 19
        }
      ]
    },
    {
      "cell_type": "code",
      "metadata": {
        "id": "EVEk6i2P_Xi1"
      },
      "source": [
        "inf , uninf = df[df.Label == 'Parasitized'], df[df.Label == 'Uninfected']"
      ],
      "execution_count": 4,
      "outputs": []
    },
    {
      "cell_type": "code",
      "metadata": {
        "id": "Ka2ACzOx9sh2",
        "outputId": "c62c68e9-7b28-43c6-86e9-a14c903a176f",
        "colab": {
          "base_uri": "https://localhost:8080/",
          "height": 369
        }
      },
      "source": [
        "mean_inf = np.mean(inf.drop('Label',axis=1),axis=0)\n",
        "mean_clean = np.mean(uninf.drop('Label',axis=1),axis=0)\n",
        "\n",
        "\n",
        "xs = np.array(['Area_'+str(i) for i in range(1,6)]) \n",
        "\n",
        "fig,ax = plt.subplots(nrows=2,ncols=1,figsize=(6,5))\n",
        "\n",
        "sns.barplot(x = xs, y=mean_inf.values,ax = ax[0])\n",
        "ax[0].set_title('Parasitized Images : Mean Contour Size')\n",
        "ax[1].set_title('Uninfected Images : Mean Contour Size')\n",
        "sns.barplot(x = xs,y=mean_clean.values,ax =ax[1])\n",
        "\n",
        "plt.tight_layout()\n",
        "plt.show()"
      ],
      "execution_count": 60,
      "outputs": [
        {
          "output_type": "display_data",
          "data": {
            "image/png": "[encoded data removed]",
            "text/plain": [
              "<Figure size 432x360 with 2 Axes>"
            ]
          },
          "metadata": {
            "tags": [],
            "needs_background": "light"
          }
        }
      ]
    },
    {
      "cell_type": "code",
      "metadata": {
        "id": "sNmadqCD_PtL",
        "outputId": "ceaa38b6-46a0-4bec-c1fc-eb368d0d87d9",
        "colab": {
          "base_uri": "https://localhost:8080/",
          "height": 369
        }
      },
      "source": [
        "std_inf = np.std(inf.drop('Label',axis=1),axis=0)\n",
        "std_clean = np.std(uninf.drop('Label',axis=1),axis=0)\n",
        "\n",
        "fig,ax = plt.subplots(nrows=2,ncols=1,figsize=(6,5))\n",
        "\n",
        "sns.barplot(x = xs, y= std_inf.values,ax = ax[0])\n",
        "ax[0].set_title('Parasitized Images : Standard deviation of Contour Size')\n",
        "sns.barplot(x = xs,y= std_clean.values,ax =ax[1])\n",
        "ax[1].set_title('Uninfected Images : Standard deviation of Contour Size')\n",
        "plt.tight_layout()\n",
        "\n",
        "\n",
        "plt.show()"
      ],
      "execution_count": 61,
      "outputs": [
        {
          "output_type": "display_data",
          "data": {
            "image/png": "[encoded data removed]",
            "text/plain": [
              "<Figure size 432x360 with 2 Axes>"
            ]
          },
          "metadata": {
            "tags": [],
            "needs_background": "light"
          }
        }
      ]
    },
    {
      "cell_type": "code",
      "metadata": {
        "id": "CtfKCpg9B0g9"
      },
      "source": [
        ""
      ],
      "execution_count": 6,
      "outputs": []
    },
    {
      "cell_type": "markdown",
      "metadata": {
        "id": "4L1SRTNDCark"
      },
      "source": [
        "# Machine LEarning models\n"
      ]
    },
    {
      "cell_type": "code",
      "metadata": {
        "id": "ejMpDEsmCmP-"
      },
      "source": [
        "df['Label'].replace({'Parasitized':1,'Uninfected':0},inplace=True)\n",
        "x_data = df.drop('Label',axis=1)\n",
        "y_data = df['Label']"
      ],
      "execution_count": 32,
      "outputs": []
    },
    {
      "cell_type": "code",
      "metadata": {
        "id": "4CleMAd-CmS0"
      },
      "source": [
        "X_train, X_test, y_train, y_test = train_test_split(x_data, y_data, test_size=0.2, random_state=0)"
      ],
      "execution_count": 33,
      "outputs": []
    },
    {
      "cell_type": "markdown",
      "metadata": {
        "id": "oMbcS_W9CxJ2"
      },
      "source": [
        "## Log reg"
      ]
    },
    {
      "cell_type": "code",
      "metadata": {
        "id": "8jy6y3OUCskp"
      },
      "source": [
        "logreg = LogisticRegression(random_state=0,max_iter=5000)\n",
        "logreg.fit(X_train, y_train)\n",
        "logreg_probs = logreg.predict_proba(X_test)"
      ],
      "execution_count": 35,
      "outputs": []
    },
    {
      "cell_type": "markdown",
      "metadata": {
        "id": "pBy6Ln76C0Mf"
      },
      "source": [
        "## KNN"
      ]
    },
    {
      "cell_type": "code",
      "metadata": {
        "id": "fLTe-jBtC2s6"
      },
      "source": [
        "knn = KNN(n_neighbors = 2) \n",
        "knn.fit(X_train, y_train)\n",
        "knn_probs = knn.predict_proba(X_test)"
      ],
      "execution_count": 36,
      "outputs": []
    },
    {
      "cell_type": "markdown",
      "metadata": {
        "id": "5gzKwvtGC5sI"
      },
      "source": [
        "## RF"
      ]
    },
    {
      "cell_type": "code",
      "metadata": {
        "id": "veSGYkN9C6jg"
      },
      "source": [
        "rf = RandomForestClassifier(n_estimators =500,criterion='entropy', random_state=50)\n",
        "rf.fit(X_train, y_train)\n",
        "rf_probs = rf.predict_proba(X_test)"
      ],
      "execution_count": 37,
      "outputs": []
    },
    {
      "cell_type": "markdown",
      "metadata": {
        "id": "H35fy2naC8t0"
      },
      "source": [
        "# NB"
      ]
    },
    {
      "cell_type": "code",
      "metadata": {
        "id": "jioCavgWC9bi"
      },
      "source": [
        "nb = GaussianNB()\n",
        "nb.fit(X_train,y_train)\n",
        "nb_probs = nb.predict_proba(X_test)"
      ],
      "execution_count": 38,
      "outputs": []
    },
    {
      "cell_type": "markdown",
      "metadata": {
        "id": "D4JZd4MZDP7S"
      },
      "source": [
        "## Computing ROC and AUC values"
      ]
    },
    {
      "cell_type": "code",
      "metadata": {
        "id": "xk3U36g0DOZ1"
      },
      "source": [
        "# Storing the probabilities for positive outcome \n",
        "\n",
        "prob_vals = [logreg_probs,rf_probs, knn_probs,nb_probs]\n",
        "r_probs = [0 for _ in range(len(y_test))]  # worst case probability\n",
        "\n",
        "positive_prob_vals = [i[:,1] for i in prob_vals]\n",
        "\n",
        "p_logreg_probs,p_rf_probs, p_knn_probs,p_nb_probs = positive_prob_vals"
      ],
      "execution_count": 39,
      "outputs": []
    },
    {
      "cell_type": "code",
      "metadata": {
        "id": "0IPhpmHCDWcD"
      },
      "source": [
        "## Computing ROC and AUC values\n",
        "\n",
        "r_auc = roc_auc_score(y_test,r_probs)\n",
        "log_reg_auc = roc_auc_score(y_test,p_logreg_probs)\n",
        "rf_auc = roc_auc_score(y_test,p_rf_probs)\n",
        "knn_auc = roc_auc_score(y_test,p_knn_probs)\n",
        "nb_auc = roc_auc_score(y_test,p_nb_probs)"
      ],
      "execution_count": 40,
      "outputs": []
    },
    {
      "cell_type": "code",
      "metadata": {
        "id": "A3HBpZh9DX_x",
        "outputId": "f9622281-47f5-4fcd-cdd7-842f751ccaab",
        "colab": {
          "base_uri": "https://localhost:8080/",
          "height": 104
        }
      },
      "source": [
        "## Print AUROC scores\n",
        "\n",
        "print(\"Random (chance) Prediction : AUROC = %.3f\" %(r_auc))\n",
        "print('Logistic Regression : AUROC = %.3f' %(log_reg_auc))\n",
        "print('Random Forest : AUROC = %.3f' %(rf_auc))\n",
        "print('KNN : AUROC = %.3f' %(knn_auc))\n",
        "print('Naive Bayes : AUROC = %.3f' %(nb_auc))"
      ],
      "execution_count": 41,
      "outputs": [
        {
          "output_type": "stream",
          "text": [
            "Random (chance) Prediction : AUROC = 0.500\n",
            "Logistic Regression : AUROC = 0.922\n",
            "Random Forest : AUROC = 0.926\n",
            "KNN : AUROC = 0.894\n",
            "Naive Bayes : AUROC = 0.922\n"
          ],
          "name": "stdout"
        }
      ]
    },
    {
      "cell_type": "code",
      "metadata": {
        "id": "w0AnPOGHDaQo"
      },
      "source": [
        "## Calculate ROC curve\n",
        "\n",
        "r_fpr, r_tpr , _ = roc_curve(y_test, r_probs)\n",
        "logreg_fpr,logreg_tpr, _ = roc_curve(y_test, p_logreg_probs)\n",
        "rf_fpr,rf_tpr, _ = roc_curve(y_test, p_rf_probs)\n",
        "knn_fpr,knn_tpr, _ = roc_curve(y_test, p_knn_probs)\n",
        "nb_fpr, nb_tpr, _ = roc_curve(y_test, p_nb_probs) "
      ],
      "execution_count": 42,
      "outputs": []
    },
    {
      "cell_type": "code",
      "metadata": {
        "id": "9kmKj6fTDb_o",
        "outputId": "3f30f442-ca98-4a09-c338-7efe5a52f0cd",
        "colab": {
          "base_uri": "https://localhost:8080/",
          "height": 460
        }
      },
      "source": [
        "\n",
        "### Plot the ROC curves\n",
        "\n",
        "fig = plt.figure(num=1,dpi=90,figsize=(6,5))\n",
        "axes = fig.add_axes([0.1,0.1,0.8,0.8])\n",
        "\n",
        "axes.plot(r_fpr,r_tpr, ls = '--', label='Random prediction (AUROC = %0.2f)' %(r_auc))\n",
        "\n",
        "axes.plot(rf_fpr,rf_tpr, marker = ',', label='Random Forest (AUROC = %0.2f)' %(rf_auc))\n",
        "axes.plot(logreg_fpr,logreg_tpr, marker = ',', label='Logistic Regression (AUROC = %0.2f)' %(rf_auc))\n",
        "axes.plot(knn_fpr,knn_tpr, marker = ',', label='KNN (AUROC = %0.2f)' %(rf_auc))\n",
        "axes.plot(nb_fpr,nb_tpr, marker = '.', label='Naive Bayes (AUROC = %0.2f)' %(nb_auc))\n",
        "\n",
        "axes.set_xlabel('False Positive Rate')\n",
        "axes.set_ylabel('True Positive Rate')\n",
        "axes.set_title('Receiver Operating Characteristic (ROC) curve') \n",
        "\n",
        "axes.legend(bbox_to_anchor=(1.01, 1),fancybox=True, framealpha=1, shadow=True, borderpad=1)\n",
        "\n",
        "plt.show()\n"
      ],
      "execution_count": 45,
      "outputs": [
        {
          "output_type": "display_data",
          "data": {
            "image/png": "[encoded data removed]",
            "text/plain": [
              "<Figure size 540x450 with 1 Axes>"
            ]
          },
          "metadata": {
            "tags": [],
            "needs_background": "light"
          }
        }
      ]
    },
    {
      "cell_type": "code",
      "metadata": {
        "id": "ZlbxTKM_D5DN",
        "outputId": "c8262c36-9b56-4c71-bdfc-ffd636dd208f",
        "colab": {
          "base_uri": "https://localhost:8080/",
          "height": 173
        }
      },
      "source": [
        "print(classification_report(y_test,logreg.predict(X_test)))"
      ],
      "execution_count": 51,
      "outputs": [
        {
          "output_type": "stream",
          "text": [
            "              precision    recall  f1-score   support\n",
            "\n",
            "           0       0.89      0.91      0.90      2809\n",
            "           1       0.90      0.88      0.89      2703\n",
            "\n",
            "    accuracy                           0.90      5512\n",
            "   macro avg       0.90      0.90      0.90      5512\n",
            "weighted avg       0.90      0.90      0.90      5512\n",
            "\n"
          ],
          "name": "stdout"
        }
      ]
    },
    {
      "cell_type": "code",
      "metadata": {
        "id": "-pcR2-5xEw_g",
        "outputId": "b0f1d47c-c3e3-47c0-cde7-fa131a42db16",
        "colab": {
          "base_uri": "https://localhost:8080/",
          "height": 173
        }
      },
      "source": [
        "print(classification_report(y_test,rf.predict(X_test)))"
      ],
      "execution_count": 52,
      "outputs": [
        {
          "output_type": "stream",
          "text": [
            "              precision    recall  f1-score   support\n",
            "\n",
            "           0       0.88      0.85      0.86      2809\n",
            "           1       0.85      0.87      0.86      2703\n",
            "\n",
            "    accuracy                           0.86      5512\n",
            "   macro avg       0.86      0.86      0.86      5512\n",
            "weighted avg       0.86      0.86      0.86      5512\n",
            "\n"
          ],
          "name": "stdout"
        }
      ]
    },
    {
      "cell_type": "code",
      "metadata": {
        "id": "x6x0K9vEE--0",
        "outputId": "406d6c40-d1bb-4f83-d5ba-19fda19853f2",
        "colab": {
          "base_uri": "https://localhost:8080/",
          "height": 173
        }
      },
      "source": [
        "print(classification_report(y_test,nb.predict(X_test)))"
      ],
      "execution_count": 53,
      "outputs": [
        {
          "output_type": "stream",
          "text": [
            "              precision    recall  f1-score   support\n",
            "\n",
            "           0       0.83      0.93      0.88      2809\n",
            "           1       0.92      0.80      0.86      2703\n",
            "\n",
            "    accuracy                           0.87      5512\n",
            "   macro avg       0.87      0.87      0.87      5512\n",
            "weighted avg       0.87      0.87      0.87      5512\n",
            "\n"
          ],
          "name": "stdout"
        }
      ]
    },
    {
      "cell_type": "code",
      "metadata": {
        "id": "SUsTzbNAFBUC",
        "outputId": "eda0d86b-aabf-4d7f-e474-5e1f1bc1c92d",
        "colab": {
          "base_uri": "https://localhost:8080/",
          "height": 173
        }
      },
      "source": [
        "print(classification_report(y_test,knn.predict(X_test)))"
      ],
      "execution_count": 54,
      "outputs": [
        {
          "output_type": "stream",
          "text": [
            "              precision    recall  f1-score   support\n",
            "\n",
            "           0       0.82      0.93      0.87      2809\n",
            "           1       0.92      0.79      0.85      2703\n",
            "\n",
            "    accuracy                           0.86      5512\n",
            "   macro avg       0.87      0.86      0.86      5512\n",
            "weighted avg       0.87      0.86      0.86      5512\n",
            "\n"
          ],
          "name": "stdout"
        }
      ]
    },
    {
      "cell_type": "code",
      "metadata": {
        "id": "BBLCITdNFD5I"
      },
      "source": [
        ""
      ],
      "execution_count": null,
      "outputs": []
    }
  ]
}